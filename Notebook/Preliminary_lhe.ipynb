{
 "cells": [
  {
   "cell_type": "code",
   "execution_count": 16,
   "id": "fabulous-england",
   "metadata": {},
   "outputs": [],
   "source": [
    "import pylhe\n",
    "import math\n",
    "import matplotlib.pyplot as plt\n",
    "import numpy as np\n",
    "from tqdm import tqdm"
   ]
  },
  {
   "cell_type": "code",
   "execution_count": 3,
   "id": "written-elimination",
   "metadata": {},
   "outputs": [],
   "source": [
    "def invariant_mass_one(p1):\n",
    "    return math.sqrt(sum((1 if index=='e' else -1)*(getattr(p1,index))**2 for index in ['e','px','py','pz']))\n",
    "\n",
    "def invariant_mass(p1,p2):\n",
    "    return math.sqrt(sum((1 if index=='e' else -1)*(getattr(p1,index)+getattr(p2,index))**2 for index in ['e','px','py','pz']))\n",
    "\n"
   ]
  },
  {
   "cell_type": "code",
   "execution_count": 20,
   "id": "expected-vault",
   "metadata": {},
   "outputs": [
    {
     "name": "stderr",
     "output_type": "stream",
     "text": [
      "213it [00:00, 2117.63it/s]"
     ]
    },
    {
     "name": "stdout",
     "output_type": "stream",
     "text": [
      "the file path is : ./gghh.lhe\n"
     ]
    },
    {
     "name": "stderr",
     "output_type": "stream",
     "text": [
      "10000it [00:06, 1501.14it/s]\n",
      "525it [00:00, 2614.86it/s]"
     ]
    },
    {
     "name": "stdout",
     "output_type": "stream",
     "text": [
      "total events: 10000 \n",
      "the file path is : ./ggh2hh.lhe\n"
     ]
    },
    {
     "name": "stderr",
     "output_type": "stream",
     "text": [
      "10000it [00:05, 1671.65it/s]\n",
      "546it [00:00, 2727.96it/s]"
     ]
    },
    {
     "name": "stdout",
     "output_type": "stream",
     "text": [
      "total events: 10000 \n",
      "the file path is : ./gghh_offshell.lhe\n"
     ]
    },
    {
     "name": "stderr",
     "output_type": "stream",
     "text": [
      "10000it [00:06, 1568.73it/s]"
     ]
    },
    {
     "name": "stdout",
     "output_type": "stream",
     "text": [
      "total events: 10000 \n",
      "CPU times: user 18.7 s, sys: 654 ms, total: 19.3 s\n",
      "Wall time: 19 s\n"
     ]
    },
    {
     "name": "stderr",
     "output_type": "stream",
     "text": [
      "\n"
     ]
    }
   ],
   "source": [
    "%%time\n",
    "\n",
    "def Mhh(lhe_path: str):\n",
    "    print(\"the file path is : {}\".format(lhe_path))\n",
    "    file = pylhe.readLHE(lhe_path)\n",
    "    tmp_Mhh = []  \n",
    "\n",
    "    for event in tqdm(file):\n",
    "        tmp = []\n",
    "        for i in range(len(event.particles)):\n",
    "            if event.particles[i].id == 25:\n",
    "                tmp.append(event.particles[i])\n",
    "            \n",
    "        tmp_Mhh.append(invariant_mass(tmp[0],tmp[1]))\n",
    "    \n",
    "    print(\"total events: {} \".format(len(tmp_Mhh)))\n",
    "    tmp_Mhh = np.array(tmp_Mhh)\n",
    "\n",
    "    return tmp_Mhh\n",
    "\n",
    "gghh_M =Mhh(lhe_path = './higgspair_lhe/gghh.lhe')\n",
    "ggHhh_M =Mhh(lhe_path = './higgspair_lhe/ggh2hh.lhe')\n",
    "gghh_M_offshell =Mhh(lhe_path = './higgspair_lhe/gghh_offshell.lhe')"
   ]
  },
  {
   "cell_type": "code",
   "execution_count": 21,
   "id": "unable-discovery",
   "metadata": {},
   "outputs": [
    {
     "data": {
      "image/png": "[encoded data removed]",
      "text/plain": [
       "<Figure size 576x576 with 1 Axes>"
      ]
     },
     "metadata": {
      "needs_background": "light"
     },
     "output_type": "display_data"
    }
   ],
   "source": [
    "plt.figure(figsize=(8,8))\n",
    "\n",
    "plt.hist(gghh_M,bins=np.linspace(200,1500,100), density=0, weights=np.full(10000,0.1096),histtype=\"step\", color=\"red\", linewidth=2, label=\"$gg \\\\to hh$\")\n",
    "plt.hist(gghh_M_offshell,bins=np.linspace(200,1500,100), density=0, weights=np.full(10000,0.06103), color=\"blue\", alpha=0.5, label=\"$gg \\\\to hh$ (off-shell)\")\n",
    "plt.hist(ggHhh_M,bins=np.linspace(200,1500,100), density=0, weights=np.full(10000,0.06008), color=\"green\", alpha=0.5, label=\"$gg \\\\to H \\\\to hh$\")\n",
    "\n",
    "plt.text(x=200, y=350, s=\"$M_H$ = 1 TeV\", fontsize=20, rotation=0)\n",
    "\n",
    "plt.xlabel(\"$M_{hh}}$ [GeV]\" , fontsize=20, horizontalalignment='right',x=1)  # plot x-axis label\n",
    "plt.ylabel(\"MC Event (weighted by $\\sigma$)\", fontsize=20, horizontalalignment='right',y=1)  # plot y-axis label\n",
    "plt.xticks(fontsize=20)   # set x-ticks size\n",
    "plt.yticks(fontsize=20)\n",
    "plt.legend(loc=\"best\",ncol=1,fontsize=20, edgecolor = \"w\",fancybox=False, framealpha=0)\n",
    "plt.show()"
   ]
  },
  {
   "cell_type": "code",
   "execution_count": null,
   "id": "cd63fdc1",
   "metadata": {},
   "outputs": [],
   "source": []
  }
 ],
 "metadata": {
  "kernelspec": {
   "display_name": "Python 3.8.5 64-bit",
   "language": "python",
   "name": "python3"
  },
  "language_info": {
   "codemirror_mode": {
    "name": "ipython",
    "version": 3
   },
   "file_extension": ".py",
   "mimetype": "text/x-python",
   "name": "python",
   "nbconvert_exporter": "python",
   "pygments_lexer": "ipython3",
   "version": "3.8.5"
  },
  "vscode": {
   "interpreter": {
    "hash": "31f2aee4e71d21fbe5cf8b01ff0e069b9275f58929596ceb00d14d90e3e16cd6"
   }
  }
 },
 "nbformat": 4,
 "nbformat_minor": 5
}
